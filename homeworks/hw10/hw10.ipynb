{
 "cells": [
  {
   "cell_type": "code",
   "execution_count": 1,
   "metadata": {},
   "outputs": [],
   "source": [
    "import pandas as pd\n",
    "import numpy as np\n",
    "import matplotlib.pyplot as plt\n",
    "import tensorflow as tf\n",
    "import otter\n",
    "grader = otter.Notebook()\n",
    "\n",
    "%matplotlib inline\n",
    "\n",
    "# Hide warnings\n",
    "import warnings\n",
    "warnings.filterwarnings('ignore')"
   ]
  },
  {
   "cell_type": "code",
   "execution_count": 2,
   "metadata": {},
   "outputs": [],
   "source": [
    "# load dataset\n",
    "(x_train, y_train), (x_test, y_test) = tf.keras. \\\n",
    "                            datasets.mnist.load_data()"
   ]
  },
  {
   "cell_type": "code",
   "execution_count": 3,
   "metadata": {},
   "outputs": [
    {
     "name": "stdout",
     "output_type": "stream",
     "text": [
      "Train input shape: (60000, 28, 28)\n",
      "Test input shape: (10000, 28, 28)\n",
      "Input data type: uint8\n"
     ]
    }
   ],
   "source": [
    "# input information\n",
    "print('Train input shape:',x_train.shape)\n",
    "print('Test input shape:',x_test.shape)\n",
    "print('Input data type:',x_train.dtype)"
   ]
  },
  {
   "cell_type": "code",
   "execution_count": 4,
   "metadata": {},
   "outputs": [
    {
     "data": {
      "text/html": [
       "\n",
       "    \n",
       "    \n",
       "        <p>All tests passed!</p>\n",
       "    \n",
       "    "
      ],
      "text/plain": [
       "\n",
       "    All tests passed!\n",
       "    "
      ]
     },
     "execution_count": 4,
     "metadata": {},
     "output_type": "execute_result"
    }
   ],
   "source": [
    "# Normalize the data by dividing by 255, flatten inputs, and convert datatype to float32\n",
    "\n",
    "\n",
    "grader.check('q1')"
   ]
  },
  {
   "cell_type": "code",
   "execution_count": 5,
   "metadata": {},
   "outputs": [],
   "source": [
    "from tensorflow.keras.models import Sequential\n",
    "from tensorflow.keras.layers import Dense\n",
    "from tensorflow.keras.layers import Conv2D\n",
    "from tensorflow.keras.layers import Dense, Dropout, Activation, Flatten"
   ]
  },
  {
   "cell_type": "code",
   "execution_count": 6,
   "metadata": {},
   "outputs": [
    {
     "data": {
      "text/html": [
       "\n",
       "    \n",
       "    \n",
       "        <p>All tests passed!</p>\n",
       "    \n",
       "    "
      ],
      "text/plain": [
       "\n",
       "    All tests passed!\n",
       "    "
      ]
     },
     "execution_count": 6,
     "metadata": {},
     "output_type": "execute_result"
    }
   ],
   "source": [
    "# Now made a fully connected network with layers of size 300, 200, 100.\n",
    "# Make a final output layer of size 10 (for each of the 10 digit classes), with a softmax activation\n",
    "\n",
    "# Initialize model constructor\n",
    "model = Sequential()\n",
    "# Add layers sequentially\n",
    "\n",
    "\n",
    "grader.check('q2')"
   ]
  },
  {
   "cell_type": "code",
   "execution_count": 7,
   "metadata": {},
   "outputs": [],
   "source": [
    "# compile the model with sparse_categorical_crossentropy\n"
   ]
  },
  {
   "cell_type": "code",
   "execution_count": 8,
   "metadata": {},
   "outputs": [
    {
     "name": "stdout",
     "output_type": "stream",
     "text": [
      "Epoch 1/5\n",
      "750/750 [==============================] - 4s 6ms/step - loss: 0.2502 - accuracy: 0.9223 - val_loss: 0.1192 - val_accuracy: 0.9653\n",
      "Epoch 2/5\n",
      "750/750 [==============================] - 5s 6ms/step - loss: 0.1015 - accuracy: 0.9702 - val_loss: 0.1021 - val_accuracy: 0.9706\n",
      "Epoch 3/5\n",
      "750/750 [==============================] - 4s 5ms/step - loss: 0.0713 - accuracy: 0.9781 - val_loss: 0.1083 - val_accuracy: 0.9710\n",
      "Epoch 4/5\n",
      "750/750 [==============================] - 4s 5ms/step - loss: 0.0530 - accuracy: 0.9833 - val_loss: 0.1008 - val_accuracy: 0.9739\n",
      "Epoch 5/5\n",
      "750/750 [==============================] - 4s 5ms/step - loss: 0.0436 - accuracy: 0.9877 - val_loss: 0.1147 - val_accuracy: 0.9728\n"
     ]
    }
   ],
   "source": [
    "# train the model\n",
    "NO_EPOCHS = 5\n",
    "history = model.fit(x_train, y_train,\n",
    "                    batch_size=64,\n",
    "                    epochs=NO_EPOCHS,\n",
    "                    validation_split=0.2)"
   ]
  },
  {
   "cell_type": "code",
   "execution_count": 9,
   "metadata": {},
   "outputs": [
    {
     "name": "stdout",
     "output_type": "stream",
     "text": [
      "Test accuracy: 0.9729999899864197\n"
     ]
    },
    {
     "data": {
      "text/html": [
       "\n",
       "    \n",
       "    \n",
       "        <p>All tests passed!</p>\n",
       "    \n",
       "    "
      ],
      "text/plain": [
       "\n",
       "    All tests passed!\n",
       "    "
      ]
     },
     "execution_count": 9,
     "metadata": {},
     "output_type": "execute_result"
    }
   ],
   "source": [
    "# Evaluate the model\n",
    "loss, accuracy = \n",
    "#print('Test loss:', test_scores[0])\n",
    "print('Test accuracy:', accuracy)\n",
    "\n",
    "grader.check('q3')"
   ]
  },
  {
   "cell_type": "code",
   "execution_count": 10,
   "metadata": {},
   "outputs": [
    {
     "data": {
      "image/png": "[encoded data removed]",
      "text/plain": [
       "<Figure size 432x288 with 1 Axes>"
      ]
     },
     "metadata": {
      "needs_background": "light"
     },
     "output_type": "display_data"
    }
   ],
   "source": [
    "# plot accuracy over the epochs. Hint: look at history.history\n",
    "\n"
   ]
  },
  {
   "cell_type": "code",
   "execution_count": 11,
   "metadata": {},
   "outputs": [
    {
     "data": {
      "text/html": [
       "\n",
       "    \n",
       "    \n",
       "        <p>All tests passed!</p>\n",
       "    \n",
       "    "
      ],
      "text/plain": [
       "\n",
       "    All tests passed!\n",
       "    "
      ]
     },
     "execution_count": 11,
     "metadata": {},
     "output_type": "execute_result"
    }
   ],
   "source": [
    "# Now train a CNN with 2 Conv2d layers, one pooling layer, a flattening layer, and a dense layer for the output.\n",
    "# Hint: you will have to reshape your training data\n",
    "# Also for the Conv2d layers, you should use data_format='channel_last'\n",
    "\n",
    "model = Sequential()\n",
    "\n",
    "grader.check('q4')"
   ]
  },
  {
   "cell_type": "code",
   "execution_count": 12,
   "metadata": {},
   "outputs": [],
   "source": [
    "# compile the model\n",
    "\n"
   ]
  },
  {
   "cell_type": "code",
   "execution_count": 13,
   "metadata": {},
   "outputs": [
    {
     "name": "stdout",
     "output_type": "stream",
     "text": [
      "Epoch 1/5\n",
      "750/750 [==============================] - 16s 22ms/step - loss: 0.3699 - accuracy: 0.8931 - val_loss: 0.3037 - val_accuracy: 0.9138\n",
      "Epoch 2/5\n",
      "750/750 [==============================] - 18s 24ms/step - loss: 0.3056 - accuracy: 0.9140 - val_loss: 0.3049 - val_accuracy: 0.9183\n",
      "Epoch 3/5\n",
      "750/750 [==============================] - 20s 26ms/step - loss: 0.2912 - accuracy: 0.9190 - val_loss: 0.2802 - val_accuracy: 0.9233\n",
      "Epoch 4/5\n",
      "750/750 [==============================] - 22s 29ms/step - loss: 0.2825 - accuracy: 0.9211 - val_loss: 0.2758 - val_accuracy: 0.9254\n",
      "Epoch 5/5\n",
      "750/750 [==============================] - 22s 30ms/step - loss: 0.2765 - accuracy: 0.9225 - val_loss: 0.2781 - val_accuracy: 0.9249\n"
     ]
    }
   ],
   "source": [
    "# train the model\n",
    "NO_EPOCHS = 5\n",
    "history = model.fit(x_train, y_train,\n",
    "                    batch_size=64,\n",
    "                    epochs=NO_EPOCHS,\n",
    "                    validation_split=0.2)"
   ]
  },
  {
   "cell_type": "code",
   "execution_count": null,
   "metadata": {},
   "outputs": [],
   "source": [
    "# Evaluate the model\n",
    "loss, accuracy = \n",
    "print('Test accuracy:', accuracy)\n",
    "\n",
    "grader.check('q5')"
   ]
  }
 ],
 "metadata": {
  "kernelspec": {
   "display_name": "py36",
   "language": "python",
   "name": "py36"
  },
  "language_info": {
   "codemirror_mode": {
    "name": "ipython",
    "version": 3
   },
   "file_extension": ".py",
   "mimetype": "text/x-python",
   "name": "python",
   "nbconvert_exporter": "python",
   "pygments_lexer": "ipython3",
   "version": "3.6.10"
  }
 },
 "nbformat": 4,
 "nbformat_minor": 2
}
